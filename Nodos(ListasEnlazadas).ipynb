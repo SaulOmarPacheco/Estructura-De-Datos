{
  "nbformat": 4,
  "nbformat_minor": 0,
  "metadata": {
    "colab": {
      "provenance": [],
      "authorship_tag": "ABX9TyO+e0NXNJQ+V5D12rn8ondt",
      "include_colab_link": true
    },
    "kernelspec": {
      "name": "python3",
      "display_name": "Python 3"
    },
    "language_info": {
      "name": "python"
    }
  },
  "cells": [
    {
      "cell_type": "markdown",
      "metadata": {
        "id": "view-in-github",
        "colab_type": "text"
      },
      "source": [
        "<a href=\"https://colab.research.google.com/github/SaulOmarPacheco/Estructura-De-Datos/blob/main/Nodos(ListasEnlazadas).ipynb\" target=\"_parent\"><img src=\"https://colab.research.google.com/assets/colab-badge.svg\" alt=\"Open In Colab\"/></a>"
      ]
    },
    {
      "cell_type": "code",
      "source": [
        "#Se crea la clase nodo\n",
        "class node:\n",
        "  def __init__(self, data=None, next=None):\n",
        "    self.data=data\n",
        "    self.next=next\n",
        "\n",
        "class linked_list:\n",
        "  def __init__(self):\n",
        "    self.head=None\n",
        "\n",
        "  def add_at_front(self, data):\n",
        "    self.head=node(data=data, next=self.head)\n",
        "\n",
        "  def add_at_end(self, data):\n",
        "    if not self.head:\n",
        "        self.head = node(data=data)\n",
        "        return\n",
        "    curr = self.head\n",
        "    while curr.next:\n",
        "        curr = curr.next\n",
        "    curr.next = node(data=data)\n",
        "\n",
        "  def is_empty(self):\n",
        "    return self.head==None\n",
        "\n",
        "  #Se crea el metodo para eliminar nodos\n",
        "  def delete_node(self, key):\n",
        "    curr=self.head\n",
        "    prev=None\n",
        "    while curr and curr.data != key:\n",
        "      prev=curr\n",
        "      curr=curr.next\n",
        "    if prev is None:\n",
        "      self.head=curr.next\n",
        "    elif curr:\n",
        "      prev.next=curr.next\n",
        "      curr.next=None\n",
        "\n",
        "  def get_last_node(self):\n",
        "    temp=self.head\n",
        "    while(temp.next is not None):\n",
        "      temp=temp.next\n",
        "    return temp.next\n",
        "\n",
        "  def print_list(self):\n",
        "    node=self.head\n",
        "    while node != None:\n",
        "      print(node.data, end =\"--->\")\n",
        "      node=node.next"
      ],
      "metadata": {
        "id": "6t3e5IU7xQM9"
      },
      "execution_count": 4,
      "outputs": []
    },
    {
      "cell_type": "code",
      "source": [
        "p=linked_list()\n",
        "p.add_at_front(8)\n",
        "p.add_at_end(6)\n",
        "p.add_at_front(2)\n",
        "p.print_list()"
      ],
      "metadata": {
        "id": "8QtdGywVxi1P",
        "colab": {
          "base_uri": "https://localhost:8080/"
        },
        "outputId": "a4af1b8e-2ae9-4e80-d28b-029da6c1ce5e"
      },
      "execution_count": 6,
      "outputs": [
        {
          "output_type": "stream",
          "name": "stdout",
          "text": [
            "2--->8--->6--->"
          ]
        }
      ]
    }
  ]
}