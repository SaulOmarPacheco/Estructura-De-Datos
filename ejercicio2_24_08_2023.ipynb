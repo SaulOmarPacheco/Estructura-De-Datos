{
  "nbformat": 4,
  "nbformat_minor": 0,
  "metadata": {
    "colab": {
      "provenance": [],
      "include_colab_link": true
    },
    "kernelspec": {
      "name": "python3",
      "display_name": "Python 3"
    },
    "language_info": {
      "name": "python"
    }
  },
  "cells": [
    {
      "cell_type": "markdown",
      "metadata": {
        "id": "view-in-github",
        "colab_type": "text"
      },
      "source": [
        "<a href=\"https://colab.research.google.com/github/SaulOmarPacheco/Estructura-De-Datos/blob/main/ejercicio2_24_08_2023.ipynb\" target=\"_parent\"><img src=\"https://colab.research.google.com/assets/colab-badge.svg\" alt=\"Open In Colab\"/></a>"
      ]
    },
    {
      "cell_type": "code",
      "source": [
        "#METODO APPEND\n",
        "versiones_plone=[2.5,3.6,4,5]\n",
        "print(versiones_plone)\n",
        "versiones_plone.append(6)\n",
        "print(versiones_plone)\n",
        "versiones_plone.append(\"Gallos\")\n",
        "print(versiones_plone)\n",
        "A=[\"Cornflakes\",100]\n",
        "versiones_plone.append(A)\n",
        "print(versiones_plone)\n",
        "B=[\"Papel de baño\",\"Leche\"]\n",
        "A.append(B)\n",
        "print(versiones_plone)\n",
        "#Metodo count\n",
        "array2=[2.1,2.5,3.6,4,5,6]\n",
        "print(\"6 ->\",array2.count(6))\n",
        "print(\"5 ->\",array2.count(5))\n",
        "print(\"2.5 ->\",array2.count(2.5))\n",
        "#METODO EXTEND ESTE METODO EXTIENDE UN ALISTA AGREGANDO UN ITERABLE AL FINAL\n",
        "array3=[2.1,2.5,3.6]\n",
        "print(array3)\n",
        "array3.extend([4])\n",
        "print(array3)\n",
        "array3.extend(range(5,9))\n",
        "print(array3)"
      ],
      "metadata": {
        "colab": {
          "base_uri": "https://localhost:8080/"
        },
        "id": "d0BXws1TWJCl",
        "outputId": "a6a0dbd7-bc2d-4f22-fa4a-ef7a478c4d5d"
      },
      "execution_count": null,
      "outputs": [
        {
          "output_type": "stream",
          "name": "stdout",
          "text": [
            "[2.5, 3.6, 4, 5]\n",
            "[2.5, 3.6, 4, 5, 6]\n",
            "[2.5, 3.6, 4, 5, 6, 'Gallos']\n",
            "[2.5, 3.6, 4, 5, 6, 'Gallos', ['Cornflakes', 100]]\n",
            "[2.5, 3.6, 4, 5, 6, 'Gallos', ['Cornflakes', 100, ['Papel de baño', 'Leche']]]\n",
            "6 -> 1\n",
            "5 -> 1\n",
            "2.5 -> 1\n",
            "[2.1, 2.5, 3.6]\n",
            "[2.1, 2.5, 3.6, 4]\n",
            "[2.1, 2.5, 3.6, 4, 5, 6, 7, 8]\n"
          ]
        }
      ]
    }
  ]
}