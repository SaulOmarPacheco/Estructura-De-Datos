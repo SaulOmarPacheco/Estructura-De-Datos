{
  "nbformat": 4,
  "nbformat_minor": 0,
  "metadata": {
    "colab": {
      "provenance": [],
      "authorship_tag": "ABX9TyOObWUoX3lKaJSfsndqGJLW",
      "include_colab_link": true
    },
    "kernelspec": {
      "name": "python3",
      "display_name": "Python 3"
    },
    "language_info": {
      "name": "python"
    }
  },
  "cells": [
    {
      "cell_type": "markdown",
      "metadata": {
        "id": "view-in-github",
        "colab_type": "text"
      },
      "source": [
        "<a href=\"https://colab.research.google.com/github/SaulOmarPacheco/Estructura-De-Datos/blob/main/Examen(a).ipynb\" target=\"_parent\"><img src=\"https://colab.research.google.com/assets/colab-badge.svg\" alt=\"Open In Colab\"/></a>"
      ]
    },
    {
      "cell_type": "code",
      "execution_count": 1,
      "metadata": {
        "colab": {
          "base_uri": "https://localhost:8080/"
        },
        "id": "4E4qcdwznuPK",
        "outputId": "bcf9e9ac-5717-4f42-a287-2a3ef5e8c6e6"
      },
      "outputs": [
        {
          "output_type": "stream",
          "name": "stdout",
          "text": [
            "Agrega el valor1\n",
            "Agrega el valor2\n",
            "Agrega el valor3\n",
            "Agrega el valor4\n",
            "Agrega el valor5\n",
            "Agrega el valor6\n",
            "Agrega el valor7\n",
            "Agrega el valor8\n",
            "Agrega el valor9\n",
            "Agrega el valor10\n",
            "Agrega el valor11\n",
            "Agrega el valor12\n",
            "[1, 2, 3]\n",
            "[4, 5, 6]\n",
            "[7, 8, 9]\n",
            "[10, 11, 12]\n"
          ]
        }
      ],
      "source": [
        "class Pilas():\n",
        "\n",
        "\n",
        "    def __init__(self):\n",
        "            #Se crea una pila vacia\n",
        "        self.items=[]\n",
        "        self.item=[]\n",
        "    def llenar(self):\n",
        "        x=[]\n",
        "        for i in range(3):\n",
        "            a=int(input(\"Agrega el valor\"))\n",
        "            x.append(a)\n",
        "\n",
        "        self.items.append(x)\n",
        "\n",
        "    def mostrar(self):\n",
        "        for item in self.items:\n",
        "            print(item)\n",
        "p=Pilas()\n",
        "#Se llena del 1 al 12\n",
        "for i in range (4):\n",
        "    p.llenar()\n",
        "\n",
        "p.mostrar()"
      ]
    }
  ]
}