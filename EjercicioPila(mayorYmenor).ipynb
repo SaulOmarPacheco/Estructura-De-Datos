{
  "nbformat": 4,
  "nbformat_minor": 0,
  "metadata": {
    "colab": {
      "provenance": [],
      "authorship_tag": "ABX9TyOpXAEkf+8r2wQ1rvOnYG3p",
      "include_colab_link": true
    },
    "kernelspec": {
      "name": "python3",
      "display_name": "Python 3"
    },
    "language_info": {
      "name": "python"
    }
  },
  "cells": [
    {
      "cell_type": "markdown",
      "metadata": {
        "id": "view-in-github",
        "colab_type": "text"
      },
      "source": [
        "<a href=\"https://colab.research.google.com/github/SaulOmarPacheco/Estructura-De-Datos/blob/main/EjercicioPila(mayorYmenor).ipynb\" target=\"_parent\"><img src=\"https://colab.research.google.com/assets/colab-badge.svg\" alt=\"Open In Colab\"/></a>"
      ]
    },
    {
      "cell_type": "code",
      "execution_count": null,
      "metadata": {
        "colab": {
          "base_uri": "https://localhost:8080/"
        },
        "id": "RZLNBDzLdKnz",
        "outputId": "16606396-779e-42cb-8fff-90464bb9262c"
      },
      "outputs": [
        {
          "output_type": "stream",
          "name": "stdout",
          "text": [
            "Elije la opcion a hacer: \n",
            "1.Agregar\n",
            "2.Mostrar\n",
            "3.Limpiar\n",
            "4.Terminar\n",
            "--->1\n",
            "Agrega el primer valor6\n",
            "Agrega el segundo valor5\n",
            "Agrega el siguente valor4\n",
            "Agrega el siguente valor8\n",
            "Elije la opcion a hacer: \n",
            "1.Agregar\n",
            "2.Mostrar\n",
            "3.Limpiar\n",
            "4.Terminar\n"
          ]
        }
      ],
      "source": [
        "class Pilas:\n",
        "    def __init__(self):\n",
        "        #Se crea una pila vacia\n",
        "        self.items=[]\n",
        "\n",
        "    def menu(self):\n",
        "        print(\"Elije la opcion a hacer: \\n1.Agregar\\n2.Mostrar\\n3.Limpiar\\n4.Terminar\")\n",
        "\n",
        "\n",
        "    def comparar(self):\n",
        "        x=0\n",
        "        a=len(self.items)\n",
        "        b=len(self.items)-1\n",
        "        while a==0 or a==1:\n",
        "            a=len(self.items)\n",
        "            b=len(self.items)-1\n",
        "            if a==0:\n",
        "                x=int(input(\"Agrega el primer valor\"))\n",
        "                self.items.append(x)\n",
        "            elif a==1:\n",
        "                x=int(input(\"Agrega el segundo valor\"))\n",
        "                self.items.append(x)\n",
        "            elif self.items[a-1]<=self.items[b-1]:\n",
        "                while self.items[a-1]<=self.items[b-1]:\n",
        "                    x=int(input(\"Agrega el siguente valor\"))\n",
        "                    self.items.append(x)\n",
        "                    a=len(self.items)\n",
        "                    b=len(self.items)-1\n",
        "\n",
        "            else:\n",
        "                print(\"Programa terminado\")\n",
        "\n",
        "    def mostrar(self):\n",
        "        for item in self.items:\n",
        "            print(item)\n",
        "\n",
        "    def limpiar(self):\n",
        "        self.items=[]\n",
        "\n",
        "\n",
        "p=Pilas()\n",
        "op=\"si\"\n",
        "while op==\"si\" or op==\"SI\" or op==\"Si\":\n",
        "    p.menu()\n",
        "    opmenu=int(input(\"--->\"))\n",
        "    if opmenu==1:\n",
        "       p.comparar()\n",
        "    elif opmenu==2:\n",
        "       p.mostrar()\n",
        "    elif opmenu==3:\n",
        "        p.limpiar()\n",
        "    else:\n",
        "        op=\"no\"\n"
      ]
    }
  ]
}