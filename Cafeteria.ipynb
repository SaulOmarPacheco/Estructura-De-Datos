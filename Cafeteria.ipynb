{
  "nbformat": 4,
  "nbformat_minor": 0,
  "metadata": {
    "colab": {
      "provenance": [],
      "authorship_tag": "ABX9TyP1wWX5EhflpCzMsidEDMIq",
      "include_colab_link": true
    },
    "kernelspec": {
      "name": "python3",
      "display_name": "Python 3"
    },
    "language_info": {
      "name": "python"
    }
  },
  "cells": [
    {
      "cell_type": "markdown",
      "metadata": {
        "id": "view-in-github",
        "colab_type": "text"
      },
      "source": [
        "<a href=\"https://colab.research.google.com/github/SaulOmarPacheco/Estructura-De-Datos/blob/main/Cafeteria.ipynb\" target=\"_parent\"><img src=\"https://colab.research.google.com/assets/colab-badge.svg\" alt=\"Open In Colab\"/></a>"
      ]
    },
    {
      "cell_type": "code",
      "execution_count": null,
      "metadata": {
        "id": "DmuH-VZ-lvk9"
      },
      "outputs": [],
      "source": [
        "Comida=[\"churro\",\"papas\",\"hamburgesa\",\"gordita\",\"elote\"]\n",
        "Alumno=[]\n",
        "Bebida=[\"coca\",\"pepsi\",\"fanta\",\"sidral\",\"red cola\"]\n",
        "\n",
        "def agregarAlumno(x):\n",
        "    if len(Alumno)<x:\n",
        "        a=input(\"Ingresa el nombre del alumno\")\n",
        "        Alumno.append(a)\n",
        "        agregarAlumno(x)\n",
        "\n",
        "def asignar():\n",
        "\n",
        "    for Alumnos,Comidas,Bebidas in zip(Alumno,Comida,Bebida):\n",
        "        print(\"Alumno {} tiena la comida {}  y tiena la bebida {}\".format(Alumnos,Comidas,Bebidas))\n",
        "\n",
        "    for i in range (len(Alumno)):\n",
        "        Alumno.pop()\n",
        "\n",
        "a=int(input(\"Ingresa la cantidad de alumnos a agregar\"))\n",
        "agregarAlumno(a)\n",
        "asignar()\n"
      ]
    }
  ]
}