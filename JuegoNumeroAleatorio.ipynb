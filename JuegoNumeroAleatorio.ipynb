{
  "nbformat": 4,
  "nbformat_minor": 0,
  "metadata": {
    "colab": {
      "provenance": [],
      "authorship_tag": "ABX9TyMmMmNUb+O+fBUNIzAVH69C",
      "include_colab_link": true
    },
    "kernelspec": {
      "name": "python3",
      "display_name": "Python 3"
    },
    "language_info": {
      "name": "python"
    }
  },
  "cells": [
    {
      "cell_type": "markdown",
      "metadata": {
        "id": "view-in-github",
        "colab_type": "text"
      },
      "source": [
        "<a href=\"https://colab.research.google.com/github/SaulOmarPacheco/Estructura-De-Datos/blob/main/JuegoNumeroAleatorio.ipynb\" target=\"_parent\"><img src=\"https://colab.research.google.com/assets/colab-badge.svg\" alt=\"Open In Colab\"/></a>"
      ]
    },
    {
      "cell_type": "code",
      "execution_count": null,
      "metadata": {
        "colab": {
          "base_uri": "https://localhost:8080/"
        },
        "id": "XE_HCufVNOoA",
        "outputId": "611b5134-2865-463b-b60e-f4a3067c6473"
      },
      "outputs": [
        {
          "output_type": "stream",
          "name": "stdout",
          "text": [
            "Ingresa tu intento --->100\n",
            "Fallaste! Intentanlo de nuevo\n",
            "Tu intento es menor al numero aleatorio\n",
            "Ingresa tu intento --->900\n",
            "Fallaste! Intentanlo de nuevo\n",
            "Tu intento es mayor al numero aleatorio\n"
          ]
        }
      ],
      "source": [
        "\n",
        "class Numero:\n",
        "  import random\n",
        "\n",
        "  def __init__(self, aleatorio):\n",
        "    self.aleatorio=aleatorio\n",
        "\n",
        "  def num_random(self):\n",
        "\n",
        "    self.aleatorio=random.randrange(1, 1000)\n",
        "\n",
        "  def jugar(self, intento=1):\n",
        "\n",
        "      respuesta=int(input(\"Ingresa tu intento --->\"))\n",
        "      if respuesta != self.aleatorio:\n",
        "          if intento<10:\n",
        "              print(\"Fallaste! Intentanlo de nuevo\")\n",
        "              if respuesta <self.aleatorio:\n",
        "                print(\"Tu intento es menor al numero aleatorio\")\n",
        "              else:\n",
        "                print(\"Tu intento es mayor al numero aleatorio\")\n",
        "              intento+=1\n",
        "              self.jugar(intento)\n",
        "          else:\n",
        "              print(\"\\nPerdiste!\")\n",
        "\n",
        "      else:\n",
        "          print(\"\\nGanaste!\")\n",
        "\n",
        "num1=Numero(0)\n",
        "num1.num_random()\n",
        "num1.jugar()"
      ]
    }
  ]
}