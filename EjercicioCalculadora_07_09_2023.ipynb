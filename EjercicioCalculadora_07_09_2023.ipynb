{
  "nbformat": 4,
  "nbformat_minor": 0,
  "metadata": {
    "colab": {
      "provenance": [],
      "include_colab_link": true
    },
    "kernelspec": {
      "name": "python3",
      "display_name": "Python 3"
    },
    "language_info": {
      "name": "python"
    }
  },
  "cells": [
    {
      "cell_type": "markdown",
      "metadata": {
        "id": "view-in-github",
        "colab_type": "text"
      },
      "source": [
        "<a href=\"https://colab.research.google.com/github/SaulOmarPacheco/Estructura-De-Datos/blob/main/EjercicioCalculadora_07_09_2023.ipynb\" target=\"_parent\"><img src=\"https://colab.research.google.com/assets/colab-badge.svg\" alt=\"Open In Colab\"/></a>"
      ]
    },
    {
      "cell_type": "code",
      "execution_count": null,
      "metadata": {
        "id": "h8HihWPdOi84"
      },
      "outputs": [],
      "source": [
        "#La pila es una formacion de arriba hacia abajo. Lo ultimo que se apilo es lo primero que se usa.\n",
        "#SOlo podemos trabajar con metodos de pila\n",
        "class Pila:\n",
        "  def __init__(self):\n",
        "    \"Crear una pila vacia\"\n",
        "    #La pila vacia se representa con una lista vacia\n",
        "    self.items=[]\n",
        "\n",
        "  def apilar(self, x):\n",
        "    \"Agregar el elemento x a la pila.\"\n",
        "    #Apila es agregar el final de la lista\n",
        "    self.items.append(x)\n",
        "\n",
        "  def desapilar(self):\n",
        "    \"Devuelve el elmento tipe y lo elimina de la pila. Si la pila esta vacia levanta una excepcion\"\n",
        "    try:\n",
        "      return self.items.pop()\n",
        "\n",
        "    except IndexError:\n",
        "      raise ValueError(\"La pila esta vacia\")\n",
        "\n",
        "  def es_vacia(self):\n",
        "    \"Devuelve True si la lista esta vacia, False si no.\"\n",
        "    return self.items==[]\n",
        "\n",
        "  def menu(self):\n",
        "    print(\"Elije la opcion a realizar:/n1. Apilar pila \\n 2.Desapilar fila \\n 3. Mostrar si es vacia.\\n 4.Mostrar pila 5.\\n 5.Terminar menu\")\n",
        "\n",
        "\n",
        "  def imprimir(self):\n",
        "    for item in self.items:\n",
        "      print(item)\n",
        "\n",
        "\n",
        "def calculadoraPolaca(elementos):\n",
        "    \"Dada una lisa de elementos que reprentan los componentes de una expresion en notacion polaca inversa, evalua dicha expresion. Si la expresion esta mal formada levanta ValueError\"\n",
        "    p=Pila()\n",
        "    for elemento in elementos:\n",
        "      print(\"DEBUG\"),elemento\n",
        "      #intenta convertir a numero\n",
        "      try:\n",
        "        numero=float(elemento)\n",
        "        p.apilar(numero)\n",
        "        print(\"DEBUG: apila numero\",numero)\n",
        "        #Si no se puede convertir a un nuemro sera a un operando\n",
        "      except ValueError:\n",
        "        #Si no es un operando valido, levanta ValueErrror\n",
        "        if elemento not in \"+-*/%\" or len(elemento) !=1:\n",
        "          raise ValueError(\"Operando Invalido\")\n",
        "        #Si un operando valido, intento desapilar y operar\n",
        "        try:\n",
        "          a1=p.desapilar()\n",
        "          print(\"DEBUG: desapila\",a1)\n",
        "          a2=p.desapilar()\n",
        "          print(\"DEBUG: desapila\",a2)\n",
        "        #Si no hubo problemas al desapilar\n",
        "        except ValueError:\n",
        "          print(\"DEBUG: error pila faltan operandos\")\n",
        "          raise ValueError(\"Faltan operandos\")\n",
        "        if elemento==\"+\":\n",
        "          resultado =a2+a1\n",
        "        elif elemento==\"-\":\n",
        "          resultado =a2-a1\n",
        "        elif elemento==\"*\":\n",
        "          resultado =a2*a1\n",
        "        elif elemento==\"/\":\n",
        "          resultado =a2/a1\n",
        "        elif elemento==\"%\":\n",
        "          resultado =a2 % a1\n",
        "        print(\"DEBUG: apila\",resultado)\n",
        "        p.apilar(resultado)\n",
        "        #Al final, el resultado debe ser lo unico en la Pila\n",
        "      res=p.desapilar()\n",
        "      if p.es_vacia():\n",
        "        return res\n",
        "      else:\n",
        "        print(\"DEBUG: error pila sobran operandos\")\n",
        "        raise ValueError(\"Sobran operandos\")\n",
        "def main():\n",
        "  expresion=input(\"Ingresa la expresion a evaluar\")\n",
        "  elementos=expresion.split()\n",
        "  print(calculadoraPolaca(elementos))\n",
        "\n",
        "\n",
        "main()\n"
      ]
    }
  ]
}