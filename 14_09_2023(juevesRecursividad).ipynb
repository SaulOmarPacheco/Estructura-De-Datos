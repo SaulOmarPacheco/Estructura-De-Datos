{
  "nbformat": 4,
  "nbformat_minor": 0,
  "metadata": {
    "colab": {
      "provenance": [],
      "authorship_tag": "ABX9TyP4EqIo+Cnm8bXHHT3JmVP0",
      "include_colab_link": true
    },
    "kernelspec": {
      "name": "python3",
      "display_name": "Python 3"
    },
    "language_info": {
      "name": "python"
    }
  },
  "cells": [
    {
      "cell_type": "markdown",
      "metadata": {
        "id": "view-in-github",
        "colab_type": "text"
      },
      "source": [
        "<a href=\"https://colab.research.google.com/github/SaulOmarPacheco/Estructura-De-Datos/blob/main/14_09_2023(juevesRecursividad).ipynb\" target=\"_parent\"><img src=\"https://colab.research.google.com/assets/colab-badge.svg\" alt=\"Open In Colab\"/></a>"
      ]
    },
    {
      "cell_type": "code",
      "execution_count": null,
      "metadata": {
        "colab": {
          "base_uri": "https://localhost:8080/"
        },
        "id": "Fn-gW3UsT1Z1",
        "outputId": "3d395f38-d7b2-4d34-9282-c1a3ea1c28e3"
      },
      "outputs": [
        {
          "output_type": "stream",
          "name": "stdout",
          "text": [
            "¿De que color es una naranja? --->naranja\n",
            "\n",
            "Ganaste!\n"
          ]
        }
      ],
      "source": [
        "def jugar(intento=1):\n",
        "    respuesta=input(\"¿De que color es una naranja? --->\")\n",
        "    if respuesta != \"naranja\":\n",
        "        if intento<3:\n",
        "            print(\"Fallaste! Intentanlo de nuevo\")\n",
        "            intento+=1\n",
        "            jugar(intento)\n",
        "        else:\n",
        "            print(\"\\nPerdiste!\")\n",
        "\n",
        "    else:\n",
        "        print(\"\\nGanaste!\")\n",
        "#Funcion que se llama a si misma con una condicion y un contador\n",
        "jugar()"
      ]
    },
    {
      "cell_type": "code",
      "source": [
        "def imprimir(x):\n",
        "  if x>0:\n",
        "    imprimir(x-1)\n",
        "    print(x)\n",
        "imprimir(5)"
      ],
      "metadata": {
        "colab": {
          "base_uri": "https://localhost:8080/"
        },
        "id": "ITXz40l0bYZT",
        "outputId": "bed8eb88-b1e9-4846-9fb2-530b7845a89b"
      },
      "execution_count": null,
      "outputs": [
        {
          "output_type": "stream",
          "name": "stdout",
          "text": [
            "1\n",
            "2\n",
            "3\n",
            "4\n",
            "5\n"
          ]
        }
      ]
    },
    {
      "cell_type": "code",
      "source": [
        "def imprimir(x):\n",
        "  if x>0:\n",
        "    print(x)\n",
        "    imprimir(x-1)\n",
        "\n",
        "imprimir(5)"
      ],
      "metadata": {
        "colab": {
          "base_uri": "https://localhost:8080/"
        },
        "id": "IWPzYzgSag-g",
        "outputId": "99a628b3-1dbd-4a2a-c2b1-fa844f1e1784"
      },
      "execution_count": null,
      "outputs": [
        {
          "output_type": "stream",
          "name": "stdout",
          "text": [
            "5\n",
            "4\n",
            "3\n",
            "2\n",
            "1\n"
          ]
        }
      ]
    },
    {
      "cell_type": "code",
      "source": [],
      "metadata": {
        "id": "zSXObbang-Qf"
      },
      "execution_count": null,
      "outputs": []
    },
    {
      "cell_type": "code",
      "source": [
        "def factorial(fact):\n",
        "  if fact>0:\n",
        "    valor=fact*factorial(fact-1)\n",
        "    return valor\n",
        "  else:\n",
        "    return 1\n",
        "print(f\"El factorial de 4 es {factorial(4)}\")"
      ],
      "metadata": {
        "colab": {
          "base_uri": "https://localhost:8080/"
        },
        "id": "A3e4bzAEdVTI",
        "outputId": "518bb828-a898-450a-c8cf-29acf967e0ba"
      },
      "execution_count": null,
      "outputs": [
        {
          "output_type": "stream",
          "name": "stdout",
          "text": [
            "El factorial de 4 es 24\n"
          ]
        }
      ]
    },
    {
      "cell_type": "code",
      "source": [
        "def ordenar(lista, cant):\n",
        "  if cant>1:\n",
        "    for f in range(0, cant-1):\n",
        "      if lista[f]<lista[f+1]:\n",
        "        aux=lista[f]\n",
        "        lista[f]=lista[f+1]\n",
        "        lista[f+1]=aux\n",
        "        ordenar(lista, cant-1)\n",
        "datos=[60,44,22,33,2]\n",
        "print(datos)\n",
        "ordenar(datos, len(datos))\n",
        "print(datos)"
      ],
      "metadata": {
        "colab": {
          "base_uri": "https://localhost:8080/"
        },
        "id": "w4Ph3XGlhch7",
        "outputId": "693167d4-0ff6-49b2-a1fb-fb80885d9a96"
      },
      "execution_count": null,
      "outputs": [
        {
          "output_type": "stream",
          "name": "stdout",
          "text": [
            "[60, 44, 22, 33, 2]\n",
            "[60, 44, 33, 22, 2]\n"
          ]
        }
      ]
    },
    {
      "cell_type": "code",
      "source": [
        "def ordenar(lista, cant):\n",
        "  if cant>1:\n",
        "    for f in range(0, cant-1):\n",
        "      if lista[f]>lista[f+1]:\n",
        "        aux=lista[f]\n",
        "        lista[f]=lista[f+1]\n",
        "        lista[f+1]=aux\n",
        "        ordenar(lista, cant-1)\n",
        "datos=[60,44,22,33,2]\n",
        "print(datos)\n",
        "ordenar(datos, len(datos))\n",
        "print(datos)"
      ],
      "metadata": {
        "colab": {
          "base_uri": "https://localhost:8080/"
        },
        "id": "syKOgU3poIP6",
        "outputId": "6616e367-75cc-4cb4-ee46-63959233679c"
      },
      "execution_count": null,
      "outputs": [
        {
          "output_type": "stream",
          "name": "stdout",
          "text": [
            "[60, 44, 22, 33, 2]\n",
            "[2, 22, 33, 44, 60]\n"
          ]
        }
      ]
    },
    {
      "cell_type": "code",
      "source": [
        "def imprimir(x):\n",
        "  print(x)\n",
        "  imprimir(x-1)\n",
        "\n",
        "imprimir(5)"
      ],
      "metadata": {
        "id": "b8aH-zJXZWBs"
      },
      "execution_count": null,
      "outputs": []
    }
  ]
}