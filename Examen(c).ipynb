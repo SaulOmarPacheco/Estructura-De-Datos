{
  "nbformat": 4,
  "nbformat_minor": 0,
  "metadata": {
    "colab": {
      "provenance": [],
      "authorship_tag": "ABX9TyMuuM+waM9tIEpDPxT2uFr5",
      "include_colab_link": true
    },
    "kernelspec": {
      "name": "python3",
      "display_name": "Python 3"
    },
    "language_info": {
      "name": "python"
    }
  },
  "cells": [
    {
      "cell_type": "markdown",
      "metadata": {
        "id": "view-in-github",
        "colab_type": "text"
      },
      "source": [
        "<a href=\"https://colab.research.google.com/github/SaulOmarPacheco/Estructura-De-Datos/blob/main/Examen(c).ipynb\" target=\"_parent\"><img src=\"https://colab.research.google.com/assets/colab-badge.svg\" alt=\"Open In Colab\"/></a>"
      ]
    },
    {
      "cell_type": "code",
      "execution_count": 1,
      "metadata": {
        "colab": {
          "base_uri": "https://localhost:8080/"
        },
        "id": "A240zHZooqxg",
        "outputId": "2449f2d0-5de0-42b4-f481-5527f6596e4c"
      },
      "outputs": [
        {
          "output_type": "stream",
          "name": "stdout",
          "text": [
            "[1, 2, 3]\n",
            "[10, 11, 4]\n",
            "[9, 12, 5]\n",
            "[8, 7, 6]\n"
          ]
        }
      ],
      "source": [
        "num=[1,2,3,4,5,6,7,8,9,10,11,12]\n",
        "\n",
        "def menor():\n",
        "    print(min(num))\n",
        "    num.remove(1)\n",
        "    print(num)\n",
        "\n",
        "class Pilas():\n",
        "    def __init__(self):\n",
        "            #Se crea una pila vacia\n",
        "        self.items=[]\n",
        "        self.lista=[]\n",
        "        self.lista2=[]\n",
        "        self.lista3=[]\n",
        "        self.lista4=[]\n",
        "    def llenar(self):\n",
        "\n",
        "        for j in range(0,13):\n",
        "            if j==1:\n",
        "                self.lista.append(j)\n",
        "\n",
        "            elif j==2:\n",
        "                self.lista.append(j)\n",
        "\n",
        "            elif j==3:\n",
        "                self.lista.append(j)\n",
        "\n",
        "            elif j==4:\n",
        "                self.lista2.append(j)\n",
        "\n",
        "            elif j==5:\n",
        "                self.lista3.append(j)\n",
        "\n",
        "            elif j==6:\n",
        "                self.lista4.append(j)\n",
        "\n",
        "            elif j==7:\n",
        "                self.lista4.insert(0,j)\n",
        "\n",
        "            elif j==8:\n",
        "                self.lista4.insert(0,j)\n",
        "\n",
        "            elif j==9:\n",
        "                self.lista3.insert(0,j)\n",
        "            elif j==10:\n",
        "                self.lista2.insert(0,j)\n",
        "            elif j==11:\n",
        "                self.lista2.insert(1,j)\n",
        "            elif j==12:\n",
        "                self.lista3.insert(1,j)\n",
        "\n",
        "    def apilar(self):\n",
        "        self.items.append(self.lista)\n",
        "        self.items.append(self.lista2)\n",
        "        self.items.append(self.lista3)\n",
        "        self.items.append(self.lista4)\n",
        "\n",
        "    def mostrar(self):\n",
        "        for item in self.items:\n",
        "            print(item)\n",
        "\n",
        "p=Pilas()\n",
        "p.llenar()\n",
        "p.apilar()\n",
        "p.mostrar()"
      ]
    }
  ]
}