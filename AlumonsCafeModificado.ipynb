{
  "nbformat": 4,
  "nbformat_minor": 0,
  "metadata": {
    "colab": {
      "provenance": [],
      "authorship_tag": "ABX9TyO3rPZ+YqkdNG5npicQYBSQ",
      "include_colab_link": true
    },
    "kernelspec": {
      "name": "python3",
      "display_name": "Python 3"
    },
    "language_info": {
      "name": "python"
    }
  },
  "cells": [
    {
      "cell_type": "markdown",
      "metadata": {
        "id": "view-in-github",
        "colab_type": "text"
      },
      "source": [
        "<a href=\"https://colab.research.google.com/github/SaulOmarPacheco/Estructura-De-Datos/blob/main/AlumonsCafeModificado.ipynb\" target=\"_parent\"><img src=\"https://colab.research.google.com/assets/colab-badge.svg\" alt=\"Open In Colab\"/></a>"
      ]
    },
    {
      "cell_type": "code",
      "execution_count": null,
      "metadata": {
        "id": "e0e79kB88Xb9"
      },
      "outputs": [],
      "source": [
        "Alumnos=[]\n",
        "Comidas=[\"Taco\",\"Torta\",\"Churro\",\"Pastel\",\"Lasaña\"]\n",
        "Bebidas=[\"Coca\",\"Agua\",\"Vodka\",\"Tonayan\",\"Pepsi\"]\n",
        "Precios=[13,24,10,30,40]\n",
        "\n",
        "def agregarAlumno(x):\n",
        "    if len(Alumnos)<x:\n",
        "        a=input(\"Ingresa el nombre del alumno\")\n",
        "        Alumnos.append(a)\n",
        "        agregarAlumno(x)\n",
        "\n",
        "def asigBebida():\n",
        "\n",
        "    for Alumno,Comida,Precio, Bebida in zip(Alumnos,Comidas,Precios,Bebidas):\n",
        "        print(\"Alumno {} pago la comida {} de ${} y tiena la bebida {}\".format(Alumno,Comida,Precio,Bebida))\n",
        "\n",
        "    for i in range (len(Alumnos)):\n",
        "        Alumnos.pop()\n",
        "    print(Alumnos)\n",
        "\n",
        "def Ordenar():\n",
        "    Precios.sort()\n",
        "\n",
        "\n",
        "def darPrecios():\n",
        "    for Comida, Precio in zip(Comidas,Precios):\n",
        "            print(\"{} cuestan ${}\".format(Comida,Precio))\n",
        "    print(Precios)\n",
        "\n",
        "def menu():\n",
        "    print(\"1.Agregar alumnos\\n2.Asignar comida\\n3.Dar precios\\n4.Ordenar precios\\n\")\n",
        "\n",
        "\n",
        "\n",
        "\n",
        "a=int(input(\"Ingresa la cantidad de alumnos a agreagar\"))\n",
        "agregarAlumno(a)\n",
        "asigBebida()\n",
        "darPrecios()\n",
        "Ordenar()"
      ]
    }
  ]
}